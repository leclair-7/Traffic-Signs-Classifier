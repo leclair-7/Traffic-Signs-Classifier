{
 "cells": [
  {
   "cell_type": "markdown",
   "metadata": {},
   "source": [
    "# LeNet Lab\n",
    "![LeNet Architecture](lenet.png)\n",
    "Source: Yan LeCun"
   ]
  },
  {
   "cell_type": "markdown",
   "metadata": {},
   "source": [
    "## Load Data\n",
    "\n",
    "Load the MNIST data, which comes pre-loaded with TensorFlow.\n",
    "\n",
    "You do not need to modify this section."
   ]
  },
  {
   "cell_type": "code",
   "execution_count": 1,
   "metadata": {},
   "outputs": [
    {
     "name": "stdout",
     "output_type": "stream",
     "text": [
      "\n",
      "Image Shape: (32, 32, 3)\n",
      "\n",
      "Training Set:   34799 samples\n",
      "Validation Set: 4410 samples\n",
      "Test Set:       12630 samples\n"
     ]
    }
   ],
   "source": [
    "# Load pickled data\n",
    "import pickle\n",
    "\n",
    "# TODO: Fill this in based on where you saved the training and testing data\n",
    "\n",
    "training_file = \"train.p\"\n",
    "validation_file= \"valid.p\"\n",
    "testing_file = \"test.p\"\n",
    "\n",
    "with open(training_file, mode='rb') as f:\n",
    "    train = pickle.load(f)\n",
    "with open(validation_file, mode='rb') as f:\n",
    "    valid = pickle.load(f)\n",
    "with open(testing_file, mode='rb') as f:\n",
    "    test = pickle.load(f)\n",
    "    \n",
    "X_train, y_train = train['features'], train['labels']\n",
    "X_valid, y_valid = valid['features'], valid['labels']\n",
    "X_test, y_test = test['features'], test['labels']\n",
    "\n",
    "print()\n",
    "print(\"Image Shape: {}\".format(X_train[0].shape))\n",
    "print()\n",
    "print(\"Training Set:   {} samples\".format(len(X_train)))\n",
    "print(\"Validation Set: {} samples\".format(len(X_valid)))\n",
    "print(\"Test Set:       {} samples\".format(len(X_test)))\n",
    "\n",
    "'''\n",
    "Ideas to try:\n",
    "\n",
    "put the more sparse data samples, more in the model, may double them\n",
    "do a layer 32x32x3 --> \n",
    "make the layers deeper on the convolutional layers\n",
    "\n",
    "'''\n",
    "\n",
    "def bing():\n",
    "\timport pygame\n",
    "\timport time\n",
    "\n",
    "\tpygame.mixer.init()\n",
    "\tsoundObj = pygame.mixer.Sound('beep1.ogg')\n",
    "\tsoundObj.play()\n",
    "\n",
    "\ttime.sleep(2)\n",
    "\tsoundObj.stop()\n",
    "\n"
   ]
  },
  {
   "cell_type": "code",
   "execution_count": null,
   "metadata": {},
   "outputs": [],
   "source": [
    "\n"
   ]
  },
  {
   "cell_type": "markdown",
   "metadata": {},
   "source": []
  },
  {
   "cell_type": "markdown",
   "metadata": {},
   "source": [
    "The MNIST data that TensorFlow pre-loads comes as 28x28x1 images.\n",
    "\n",
    "However, the LeNet architecture only accepts 32x32xC images, where C is the number of color channels.\n",
    "\n",
    "In order to reformat the MNIST data into a shape that LeNet will accept, we pad the data with two rows of zeros on the top and bottom, and two columns of zeros on the left and right (28+2+2 = 32).\n",
    "\n",
    "You do not need to modify this section."
   ]
  },
  {
   "cell_type": "markdown",
   "metadata": {},
   "source": [
    "#We plot the number of each labels in the training set to get a distribution, notice almost half of the samples have under 500 training images. This may call for making repeats or data augmentation."
   ]
  },
  {
   "cell_type": "code",
   "execution_count": 2,
   "metadata": {},
   "outputs": [
    {
     "name": "stdout",
     "output_type": "stream",
     "text": [
      "Counter({2: 2010, 1: 1980, 13: 1920, 12: 1890, 38: 1860, 10: 1800, 4: 1770, 5: 1650, 25: 1350, 9: 1320, 7: 1290, 3: 1260, 8: 1260, 11: 1170, 18: 1080, 35: 1080, 17: 990, 14: 690, 31: 690, 33: 599, 15: 540, 26: 540, 28: 480, 23: 450, 30: 390, 6: 360, 16: 360, 34: 360, 22: 330, 36: 330, 20: 300, 40: 300, 21: 270, 39: 270, 24: 240, 29: 240, 27: 210, 32: 210, 41: 210, 42: 210, 0: 180, 19: 180, 37: 180}) 43\n"
     ]
    },
    {
     "data": {
      "text/plain": [
       "<matplotlib.collections.PathCollection at 0x43eb46a748>"
      ]
     },
     "execution_count": 2,
     "metadata": {},
     "output_type": "execute_result"
    },
    {
     "data": {
      "image/png": "[encoded data removed]",
      "text/plain": [
       "<matplotlib.figure.Figure at 0x43ea851748>"
      ]
     },
     "metadata": {},
     "output_type": "display_data"
    }
   ],
   "source": [
    "import numpy as np\n",
    "from collections import Counter\n",
    "import matplotlib.pyplot as plt\n",
    "%matplotlib inline\n",
    "count = Counter(y_train)\n",
    "x = [i for i in range(43)]\n",
    "\n",
    "x_arr = [count[i] for i in range(43)]\n",
    "print(count, len(count))\n",
    "plt.scatter(x,x_arr)\n"
   ]
  },
  {
   "cell_type": "code",
   "execution_count": 3,
   "metadata": {},
   "outputs": [
    {
     "name": "stdout",
     "output_type": "stream",
     "text": [
      "34799 34799\n",
      "done 23.35461950302124\n",
      "0 Here\n",
      "2000 Here\n",
      "4000 Here\n",
      "6000 Here\n",
      "8000 Here\n",
      "10000 Here\n",
      "12000 Here\n",
      "14000 Here\n",
      "16000 Here\n",
      "18000 Here\n",
      "20000 Here\n",
      "22000 Here\n",
      "24000 Here\n",
      "26000 Here\n",
      "28000 Here\n",
      "30000 Here\n",
      "32000 Here\n",
      "34000 Here\n"
     ]
    }
   ],
   "source": [
    "'''\n",
    "X_train, y_train = train['features'], train['labels']\n",
    "X_valid, y_valid = valid['features'], valid['labels']\n",
    "X_test, y_test = test['features'], test['labels']\n",
    "'''\n",
    "\n",
    "low_number_data_points = []\n",
    "for i in count:\n",
    "    #print(i, count[i])\n",
    "    if count[i] < 500:\n",
    "        low_number_data_points.append( i )\n",
    "'''    \n",
    "print(low_number_data_points, len(low_number_data_points))\n",
    "print(y_test[:10])\n",
    "'''\n",
    "print(len(X_train), len(y_train) )\n",
    "import time\n",
    "\n",
    "start = time.time()\n",
    "X_train = X_train.tolist()\n",
    "y_train = y_train.tolist()\n",
    "fina = time.time()\n",
    "print(\"done\", (fina- start))\n",
    "\n",
    "for i in range(len(X_train)):\n",
    "    if i % 2000 == 0:\n",
    "        print(i, \"Here\")\n",
    "    if y_train[i] in low_number_data_points:\n",
    "        \n",
    "        \n",
    "        X_train.append( X_train[i] )        \n",
    "        y_train.append( y_train[i] )\n",
    "    \n",
    "    \n",
    "\n",
    "X_train = np.asarray(X_train)\n",
    "y_train = np.asarray(y_train)\n",
    "\n"
   ]
  },
  {
   "cell_type": "code",
   "execution_count": 4,
   "metadata": {},
   "outputs": [
    {
     "name": "stdout",
     "output_type": "stream",
     "text": [
      "Counter({2: 2010, 1: 1980, 13: 1920, 12: 1890, 38: 1860, 10: 1800, 4: 1770, 5: 1650, 25: 1350, 9: 1320, 7: 1290, 3: 1260, 8: 1260, 11: 1170, 18: 1080, 35: 1080, 17: 990, 28: 960, 23: 900, 30: 780, 6: 720, 16: 720, 34: 720, 14: 690, 31: 690, 22: 660, 36: 660, 20: 600, 40: 600, 33: 599, 15: 540, 21: 540, 26: 540, 39: 540, 24: 480, 29: 480, 27: 420, 32: 420, 41: 420, 42: 420, 0: 360, 19: 360, 37: 360}) 43\n"
     ]
    },
    {
     "data": {
      "text/plain": [
       "<matplotlib.collections.PathCollection at 0x447b6371d0>"
      ]
     },
     "execution_count": 4,
     "metadata": {},
     "output_type": "execute_result"
    },
    {
     "data": {
      "image/png": "[encoded data removed]",
      "text/plain": [
       "<matplotlib.figure.Figure at 0x43eb496898>"
      ]
     },
     "metadata": {},
     "output_type": "display_data"
    }
   ],
   "source": [
    "count = Counter(y_train)\n",
    "x = [i for i in range(43)]\n",
    "\n",
    "x_arr = [count[i] for i in range(43)]\n",
    "print(count, len(count))\n",
    "plt.scatter(x,x_arr)"
   ]
  },
  {
   "cell_type": "code",
   "execution_count": 5,
   "metadata": {},
   "outputs": [],
   "source": [
    "#print(type(X_train), X_train[-1],y_train[-1])"
   ]
  },
  {
   "cell_type": "markdown",
   "metadata": {},
   "source": []
  },
  {
   "cell_type": "markdown",
   "metadata": {},
   "source": [
    "Normalize the dataset: do (pointR - 128.0)/128.0"
   ]
  },
  {
   "cell_type": "code",
   "execution_count": 6,
   "metadata": {},
   "outputs": [],
   "source": [
    "def vecI(vec):\n",
    "    return (vec-128.)/128\n",
    "\n",
    "\n",
    "\n",
    "X_train = [vecI(i) for i in X_train ]\n",
    "X_valid = [vecI(i) for i in X_valid ]\n",
    "X_test = [vecI(i) for i in X_test ]\n",
    "#print(X_train[0])\n"
   ]
  },
  {
   "cell_type": "markdown",
   "metadata": {},
   "source": [
    "## Visualize Data\n",
    "\n",
    "View a sample from the dataset.\n",
    "\n",
    "You do not need to modify this section."
   ]
  },
  {
   "cell_type": "code",
   "execution_count": 7,
   "metadata": {},
   "outputs": [],
   "source": [
    "import random\n",
    "import numpy as np\n",
    "import matplotlib.pyplot as plt\n",
    "\n",
    "\n",
    "index = random.randint(0, len(X_train))\n",
    "image = X_train[index].squeeze()\n",
    "\n",
    "#plt.figure(figsize=(1,1))\n",
    "#plt.imshow(image)\n"
   ]
  },
  {
   "cell_type": "markdown",
   "metadata": {},
   "source": [
    "## Preprocess Data\n",
    "\n",
    "Shuffle the training data.\n",
    "\n",
    "You do not need to modify this section."
   ]
  },
  {
   "cell_type": "code",
   "execution_count": 8,
   "metadata": {},
   "outputs": [],
   "source": [
    "from sklearn.utils import shuffle\n",
    "\n",
    "X_train, y_train = shuffle(X_train, y_train)"
   ]
  },
  {
   "cell_type": "markdown",
   "metadata": {},
   "source": [
    "## Setup TensorFlow\n",
    "The `EPOCH` and `BATCH_SIZE` values affect the training speed and model accuracy.\n",
    "\n",
    "You do not need to modify this section."
   ]
  },
  {
   "cell_type": "code",
   "execution_count": 9,
   "metadata": {},
   "outputs": [],
   "source": [
    "import tensorflow as tf\n",
    "\n",
    "EPOCHS = 15\n",
    "BATCH_SIZE = 1024"
   ]
  },
  {
   "cell_type": "markdown",
   "metadata": {},
   "source": [
    "## TODO: Implement LeNet-5\n",
    "Implement the [LeNet-5](http://yann.lecun.com/exdb/lenet/) neural network architecture.\n",
    "\n",
    "This is the only cell you need to edit.\n",
    "### Input\n",
    "The LeNet architecture accepts a 32x32xC image as input, where C is the number of color channels. Since MNIST images are grayscale, C is 1 in this case.\n",
    "\n",
    "### Architecture\n",
    "**Layer 1: Convolutional.** The output shape should be 28x28x6.\n",
    "\n",
    "**Activation.** Your choice of activation function.\n",
    "\n",
    "**Pooling.** The output shape should be 14x14x6.\n",
    "\n",
    "**Layer 2: Convolutional.** The output shape should be 10x10x16.\n",
    "\n",
    "**Activation.** Your choice of activation function.\n",
    "\n",
    "**Pooling.** The output shape should be 5x5x16.\n",
    "\n",
    "**Flatten.** Flatten the output shape of the final pooling layer such that it's 1D instead of 3D. The easiest way to do is by using `tf.contrib.layers.flatten`, which is already imported for you.\n",
    "\n",
    "**Layer 3: Fully Connected.** This should have 120 outputs.\n",
    "\n",
    "**Activation.** Your choice of activation function.\n",
    "\n",
    "**Layer 4: Fully Connected.** This should have 84 outputs.\n",
    "\n",
    "**Activation.** Your choice of activation function.\n",
    "\n",
    "**Layer 5: Fully Connected (Logits).** This should have 10 outputs.\n",
    "\n",
    "### Output\n",
    "Return the result of the 2nd fully connected layer."
   ]
  },
  {
   "cell_type": "code",
   "execution_count": 10,
   "metadata": {},
   "outputs": [],
   "source": [
    "from tensorflow.contrib.layers import flatten\n",
    "\n",
    "def LeNet(x,keep_prob):    \n",
    "    # Arguments used for tf.truncated_normal, randomly defines variables for the weights and biases for each layer\n",
    "    mu = 0\n",
    "    sigma = 0.1\n",
    "    \n",
    "    #Layer 0:    \n",
    "    \n",
    "    # TODO: Layer 1: Convolutional. Input = 32x32x1. Output = 28x28x16.\n",
    "    \n",
    "    # 6 to 64\n",
    "    weight_layer_1 = tf.Variable(tf.truncated_normal((5,5, 3, 32),mu,sigma))\n",
    "    bias_1 = tf.Variable(tf.zeros(32))\n",
    "    # TODO: Activation.\n",
    "    layer_1 = tf.nn.conv2d(x, weight_layer_1, [1,1,1,1], padding='VALID') + bias_1\n",
    "    layer_1 = tf.nn.relu(layer_1)\n",
    "    \n",
    "    # TODO: Pooling. Input = 28x28x16. Output = 14x14x16.   \n",
    "    # can also do stride = 2 with padding SAME \n",
    "    \n",
    "    layer_1 = tf.nn.max_pool(layer_1,\n",
    "                             ksize=[1, 2,2, 1],\n",
    "                             strides=[1, 2,2, 1],\n",
    "                           padding='VALID')\n",
    "    \n",
    "    \n",
    "    # TODO: Layer 2: Convolutional. Output = 10x10x32.\n",
    "    \n",
    "    weight_layer_2 = tf.Variable(tf.truncated_normal((5,5, 32, 64),mu,sigma))\n",
    "    bias_2 = tf.Variable(tf.zeros(64))\n",
    "    layer_2 = tf.nn.conv2d(layer_1, weight_layer_2, \n",
    "                           strides=[1, 1, 1, 1], padding='VALID') + bias_2\n",
    "    layer_2 = tf.nn.relu(layer_2)\n",
    "    \n",
    "    # TODO: Pooling. Input = 10x10x32. Output = 5x5x32.\n",
    "    layer_2 = tf.nn.max_pool(layer_2,\n",
    "                             ksize=[1, 2,2, 1],\n",
    "                             strides=[1,2,2, 1],\n",
    "                            padding='VALID')\n",
    "    \n",
    "    # TODO: Flatten. Input = 5x5x32. Output = 800.  \n",
    "    \n",
    "    layer_2 = flatten(layer_2)  \n",
    "    #t = input()\n",
    "    \n",
    "    # TODO: Layer 3: Fully Connected. Input = 400. Output = 120.\n",
    "    #print(layer_2.shape)\n",
    "    weight_layer_3 = tf.Variable(tf.truncated_normal((1600,400),mu,sigma))\n",
    "    bias_3 = tf.Variable( tf.zeros(400) )\n",
    "    l3_fc1 = tf.matmul(layer_2, weight_layer_3) + bias_3\n",
    "    \n",
    "    l3_fc1 = tf.nn.dropout(l3_fc1,keep_prob)\n",
    "    \n",
    "    # TODO: Activation.\n",
    "    l3_fc1 = tf.nn.relu(l3_fc1)\n",
    "    \n",
    "    # TODO: Layer 4: Fully Connected. Input = 120. Output = 84.\n",
    "    weight_layer_4 = tf.Variable(tf.truncated_normal((400,84),mu,sigma))\n",
    "    bias_4 = tf.Variable(tf.zeros(84))\n",
    "    l4_fc2 = tf.matmul(l3_fc1, weight_layer_4) + bias_4\n",
    "    \n",
    "    # TODO: Activation.\n",
    "    l4_fc2 = tf.nn.dropout(l4_fc2,keep_prob)\n",
    "    l4_fc2 = tf.nn.relu(l4_fc2)\n",
    "    \n",
    "    \n",
    "    \n",
    "    # TODO: Layer 5: Fully Connected. Input = 84. Output = 10.\n",
    "    weight_layer_5 = tf.Variable(tf.truncated_normal((84,43),mu,sigma))\n",
    "    bias_5 = tf.Variable(tf.zeros(43))    \n",
    "    logits = tf.matmul(l4_fc2, weight_layer_5) +  bias_5\n",
    "    # TODO: Activation.\n",
    "    \n",
    "    return logits\n",
    "\n",
    "x = tf.placeholder(tf.float32, (None, 32, 32, 3))\n",
    "y = tf.placeholder(tf.int32, (None))\n",
    "keep_prob = tf.placeholder(tf.float32, (None))\n",
    "one_hot_y = tf.one_hot(y, 43)\n",
    "\n",
    "rate = 0.001\n",
    "\n",
    "logits = LeNet(x,keep_prob)\n",
    "\n",
    "cross_entropy = tf.nn.softmax_cross_entropy_with_logits(labels=one_hot_y, logits=logits)\n",
    "loss_operation = tf.reduce_mean(cross_entropy)\n",
    "optimizer = tf.train.AdamOptimizer(learning_rate = rate)\n",
    "training_operation = optimizer.minimize(loss_operation)"
   ]
  },
  {
   "cell_type": "markdown",
   "metadata": {},
   "source": [
    "## Features and Labels\n",
    "Train LeNet to classify [MNIST](http://yann.lecun.com/exdb/mnist/) data.\n",
    "\n",
    "`x` is a placeholder for a batch of input images.\n",
    "`y` is a placeholder for a batch of output labels.\n",
    "\n",
    "You do not need to modify this section."
   ]
  },
  {
   "cell_type": "code",
   "execution_count": null,
   "metadata": {},
   "outputs": [],
   "source": [
    "\n"
   ]
  },
  {
   "cell_type": "markdown",
   "metadata": {},
   "source": [
    "## Training Pipeline\n",
    "Create a training pipeline that uses the model to classify MNIST data.\n",
    "\n",
    "You do not need to modify this section."
   ]
  },
  {
   "cell_type": "code",
   "execution_count": null,
   "metadata": {},
   "outputs": [],
   "source": []
  },
  {
   "cell_type": "markdown",
   "metadata": {},
   "source": [
    "## Model Evaluation\n",
    "Evaluate how well the loss and accuracy of the model for a given dataset.\n",
    "\n",
    "You do not need to modify this section."
   ]
  },
  {
   "cell_type": "code",
   "execution_count": 11,
   "metadata": {},
   "outputs": [],
   "source": [
    "correct_prediction = tf.equal(tf.argmax(logits, 1), tf.argmax(one_hot_y, 1))\n",
    "accuracy_operation = tf.reduce_mean(tf.cast(correct_prediction, tf.float32))\n",
    "saver = tf.train.Saver()\n",
    "\n",
    "def evaluate(X_data, y_data, keep_proba):\n",
    "    num_examples = len(X_data)\n",
    "    total_accuracy = 0\n",
    "    total_loss = 0\n",
    "    sess = tf.get_default_session()\n",
    "    for offset in range(0, num_examples, BATCH_SIZE):\n",
    "        batch_x, batch_y = X_data[offset:offset+BATCH_SIZE], y_data[offset:offset+BATCH_SIZE]\n",
    "        accuracy, loss = sess.run([accuracy_operation, loss_operation], feed_dict={x: batch_x, y: batch_y, keep_prob : keep_proba})\n",
    "        total_accuracy += (accuracy * len(batch_x))\n",
    "        total_loss += (loss * len(batch_x))\n",
    "    return (total_accuracy / num_examples, total_loss / num_examples)"
   ]
  },
  {
   "cell_type": "markdown",
   "metadata": {},
   "source": [
    "## Train the Model\n",
    "Run the training data through the training pipeline to train the model.\n",
    "\n",
    "Before each epoch, shuffle the training set.\n",
    "\n",
    "After each epoch, measure the loss and accuracy of the validation set.\n",
    "\n",
    "Save the model after training.\n",
    "\n",
    "You do not need to modify this section."
   ]
  },
  {
   "cell_type": "code",
   "execution_count": 12,
   "metadata": {
    "scrolled": true
   },
   "outputs": [
    {
     "name": "stdout",
     "output_type": "stream",
     "text": [
      "Training...\n",
      "\n",
      "EPOCH 1 ...\n",
      "Validation Accuracy = 0.375, loss = 2.355\n",
      "\n",
      "EPOCH 2 ...\n",
      "Validation Accuracy = 0.731, loss = 0.967\n",
      "\n",
      "EPOCH 3 ...\n",
      "Validation Accuracy = 0.844, loss = 0.541\n",
      "\n",
      "EPOCH 4 ...\n",
      "Validation Accuracy = 0.881, loss = 0.396\n",
      "\n",
      "EPOCH 5 ...\n",
      "Validation Accuracy = 0.905, loss = 0.311\n",
      "\n",
      "EPOCH 6 ...\n",
      "Validation Accuracy = 0.925, loss = 0.264\n",
      "\n",
      "EPOCH 7 ...\n",
      "Validation Accuracy = 0.922, loss = 0.260\n",
      "\n",
      "EPOCH 8 ...\n",
      "Validation Accuracy = 0.922, loss = 0.247\n",
      "\n",
      "EPOCH 9 ...\n",
      "Validation Accuracy = 0.935, loss = 0.231\n",
      "\n",
      "EPOCH 10 ...\n",
      "Validation Accuracy = 0.935, loss = 0.229\n",
      "\n",
      "EPOCH 11 ...\n",
      "Validation Accuracy = 0.933, loss = 0.244\n",
      "\n",
      "EPOCH 12 ...\n",
      "Validation Accuracy = 0.943, loss = 0.197\n",
      "\n",
      "EPOCH 13 ...\n",
      "Validation Accuracy = 0.946, loss = 0.214\n",
      "\n",
      "EPOCH 14 ...\n",
      "Validation Accuracy = 0.939, loss = 0.252\n",
      "\n",
      "EPOCH 15 ...\n",
      "Validation Accuracy = 0.946, loss = 0.191\n",
      "\n",
      "Model saved\n",
      "it took 1067.9622185230255  to train\n"
     ]
    }
   ],
   "source": [
    "import time\n",
    "\n",
    "start = time.time()\n",
    "valid_accuracy_arr = []\n",
    "loss_arr = []\n",
    "with tf.Session() as sess:\n",
    "    sess.run(tf.global_variables_initializer())\n",
    "    num_examples = len(X_train)\n",
    "    \n",
    "    print(\"Training...\")\n",
    "    print()\n",
    "    for i in range(EPOCHS):\n",
    "        X_train, y_train = shuffle(X_train, y_train)\n",
    "        for offset in range(0, num_examples, BATCH_SIZE):\n",
    "            end = offset + BATCH_SIZE\n",
    "            batch_x, batch_y = X_train[offset:end], y_train[offset:end]\n",
    "            sess.run(training_operation, feed_dict={x: batch_x, y: batch_y, keep_prob : .7})\n",
    "            \n",
    "        validation_accuracy = evaluate(X_valid, y_valid,1)\n",
    "        print(\"EPOCH {} ...\".format(i+1))\n",
    "        print(\"Validation Accuracy = {:.3f}, loss = {:.3f}\".format(validation_accuracy[0], validation_accuracy[1]))\n",
    "        print()\n",
    "        valid_accuracy_arr.append(validation_accuracy[0])\n",
    "        loss_arr.append(validation_accuracy[1])\n",
    "        \n",
    "    saver.save(sess, './lenet')\n",
    "    print(\"Model saved\")\n",
    "fina = time.time()\n",
    "print(\"it took\", (fina-start),\" to train\")"
   ]
  },
  {
   "cell_type": "code",
   "execution_count": 13,
   "metadata": {},
   "outputs": [
    {
     "data": {
      "image/png": "[encoded data removed]",
      "text/plain": [
       "<matplotlib.figure.Figure at 0x43888b7208>"
      ]
     },
     "metadata": {},
     "output_type": "display_data"
    },
    {
     "data": {
      "image/png": "[encoded data removed]",
      "text/plain": [
       "<matplotlib.figure.Figure at 0x43eb490470>"
      ]
     },
     "metadata": {},
     "output_type": "display_data"
    }
   ],
   "source": [
    "'''\n",
    "All data and 2 epochs took 62 seconds\n",
    "\n",
    "'''\n",
    "\n",
    "plt.figure(1)\n",
    "plt.subplot(211)\n",
    "plt.plot(valid_accuracy_arr)\n",
    "plt.ylabel('Accuracy')\n",
    "plt.show()\n",
    "\n",
    "plt.figure(1)\n",
    "plt.subplot(212)\n",
    "plt.plot(loss_arr)\n",
    "plt.ylabel('Loss')\n",
    "plt.show()"
   ]
  },
  {
   "cell_type": "markdown",
   "metadata": {},
   "source": [
    "## Evaluate the Model\n",
    "Once you are completely satisfied with your model, evaluate the performance of the model on the test set.\n",
    "\n",
    "Be sure to only do this once!\n",
    "\n",
    "If you were to measure the performance of your trained model on the test set, then improve your model, and then measure the performance of your model on the test set again, that would invalidate your test results. You wouldn't get a true measure of how well your model would perform against real data.\n",
    "\n",
    "You do not need to modify this section."
   ]
  },
  {
   "cell_type": "code",
   "execution_count": 14,
   "metadata": {},
   "outputs": [
    {
     "name": "stdout",
     "output_type": "stream",
     "text": [
      "INFO:tensorflow:Restoring parameters from .\\lenet\n",
      "Test Accuracy = 0.943\n"
     ]
    }
   ],
   "source": [
    "with tf.Session() as sess:\n",
    "    saver.restore(sess, tf.train.latest_checkpoint('.'))\n",
    "\n",
    "    test_accuracy = evaluate(X_test, y_test,1)\n",
    "    print(\"Test Accuracy = {:.3f}\".format(test_accuracy[0]))\n",
    "bing()"
   ]
  },
  {
   "cell_type": "code",
   "execution_count": null,
   "metadata": {},
   "outputs": [],
   "source": []
  },
  {
   "cell_type": "code",
   "execution_count": null,
   "metadata": {},
   "outputs": [],
   "source": []
  },
  {
   "cell_type": "code",
   "execution_count": null,
   "metadata": {},
   "outputs": [],
   "source": []
  },
  {
   "cell_type": "code",
   "execution_count": null,
   "metadata": {},
   "outputs": [],
   "source": []
  },
  {
   "cell_type": "code",
   "execution_count": null,
   "metadata": {},
   "outputs": [],
   "source": []
  },
  {
   "cell_type": "code",
   "execution_count": null,
   "metadata": {},
   "outputs": [],
   "source": []
  },
  {
   "cell_type": "code",
   "execution_count": null,
   "metadata": {},
   "outputs": [],
   "source": []
  },
  {
   "cell_type": "code",
   "execution_count": null,
   "metadata": {},
   "outputs": [],
   "source": []
  },
  {
   "cell_type": "code",
   "execution_count": null,
   "metadata": {},
   "outputs": [],
   "source": []
  },
  {
   "cell_type": "code",
   "execution_count": null,
   "metadata": {},
   "outputs": [],
   "source": []
  },
  {
   "cell_type": "code",
   "execution_count": null,
   "metadata": {},
   "outputs": [],
   "source": []
  },
  {
   "cell_type": "code",
   "execution_count": null,
   "metadata": {},
   "outputs": [],
   "source": []
  },
  {
   "cell_type": "code",
   "execution_count": null,
   "metadata": {},
   "outputs": [],
   "source": []
  },
  {
   "cell_type": "code",
   "execution_count": null,
   "metadata": {},
   "outputs": [],
   "source": []
  },
  {
   "cell_type": "code",
   "execution_count": null,
   "metadata": {},
   "outputs": [],
   "source": []
  }
 ],
 "metadata": {
  "anaconda-cloud": {},
  "kernelspec": {
   "display_name": "Python 3",
   "language": "python",
   "name": "python3"
  },
  "language_info": {
   "codemirror_mode": {
    "name": "ipython",
    "version": 3
   },
   "file_extension": ".py",
   "mimetype": "text/x-python",
   "name": "python",
   "nbconvert_exporter": "python",
   "pygments_lexer": "ipython3",
   "version": "3.5.4"
  },
  "widgets": {
   "state": {},
   "version": "1.1.2"
  }
 },
 "nbformat": 4,
 "nbformat_minor": 1
}
